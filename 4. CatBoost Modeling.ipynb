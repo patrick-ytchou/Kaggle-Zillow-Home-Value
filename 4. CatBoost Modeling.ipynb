{
 "cells": [
  {
   "cell_type": "markdown",
   "metadata": {},
   "source": [
    "## Import Package"
   ]
  },
  {
   "cell_type": "code",
   "execution_count": 2,
   "metadata": {},
   "outputs": [
    {
     "name": "stderr",
     "output_type": "stream",
     "text": [
      "/Users/ytchou/opt/miniconda3/lib/python3.7/importlib/_bootstrap.py:219: RuntimeWarning: numpy.ufunc size changed, may indicate binary incompatibility. Expected 192 from C header, got 216 from PyObject\n",
      "  return f(*args, **kwds)\n",
      "/Users/ytchou/opt/miniconda3/lib/python3.7/importlib/_bootstrap.py:219: RuntimeWarning: numpy.ufunc size changed, may indicate binary incompatibility. Expected 192 from C header, got 216 from PyObject\n",
      "  return f(*args, **kwds)\n"
     ]
    }
   ],
   "source": [
    "# required packages\n",
    "import numpy as np\n",
    "import pandas as pd\n",
    "import matplotlib.pyplot as plt\n",
    "import seaborn as sns\n",
    "import time\n",
    "import numba as nb\n",
    "import warnings\n",
    "from datetime import datetime\n",
    "import gc\n",
    "from utils import *\n",
    "\n",
    "# Machine Learning\n",
    "from sklearn.model_selection import train_test_split\n",
    "from sklearn.metrics import mean_absolute_error\n",
    "from catboost import CatBoostRegressor, Pool\n",
    "from hyperopt import fmin, tpe, hp, STATUS_OK, Trials\n",
    "from hyperopt.pyll import scope\n",
    "from hyperopt.pyll.stochastic import sample\n",
    "\n",
    "# display set up\n",
    "%matplotlib inline\n",
    "%precision 4\n",
    "warnings.filterwarnings('ignore')\n",
    "np.set_printoptions(suppress=True)\n",
    "pd.set_option(\"display.precision\", 3)\n",
    "pd.options.display.max_rows = 999"
   ]
  },
  {
   "cell_type": "markdown",
   "metadata": {},
   "source": [
    "## Load Data"
   ]
  },
  {
   "cell_type": "code",
   "execution_count": 4,
   "metadata": {},
   "outputs": [
    {
     "name": "stdout",
     "output_type": "stream",
     "text": [
      "Mem. usage decreased to 999.27 Mb (75.6% reduction)\n",
      "Mem. usage decreased to 999.27 Mb (75.6% reduction)\n",
      "Mem. usage decreased to 58.44 Mb (75.3% reduction)\n",
      "CPU times: user 4min 14s, sys: 3min 2s, total: 7min 17s\n",
      "Wall time: 8min 20s\n"
     ]
    }
   ],
   "source": [
    "%%time\n",
    "\n",
    "prop_2016 = pd.read_csv('data/prop_2016_v2.csv')\n",
    "prop_2016 = reduce_mem_usage(prop_2016)\n",
    "\n",
    "prop_2017 = pd.read_csv('data/prop_2017_v2.csv')\n",
    "prop_2017 = reduce_mem_usage(prop_2017)\n",
    "\n",
    "train = pd.read_csv('data/train_v2.csv')\n",
    "train = reduce_mem_usage(train)"
   ]
  },
  {
   "cell_type": "markdown",
   "metadata": {},
   "source": [
    "## Modeling Prep"
   ]
  },
  {
   "cell_type": "code",
   "execution_count": 5,
   "metadata": {},
   "outputs": [
    {
     "name": "stdout",
     "output_type": "stream",
     "text": [
      "CPU times: user 1min 36s, sys: 1min 25s, total: 3min 1s\n",
      "Wall time: 3min 26s\n"
     ]
    }
   ],
   "source": [
    "%%time\n",
    "def encoding(train, prop_2016, prop_2017, categorical_features):\n",
    "    \"\"\"\n",
    "    To limit the value to small numbers since values in categorical_feature is suggested to be small.\n",
    "    Now the number denoting missing values will be 0 instead of -1.\n",
    "    \"\"\"\n",
    "    from category_encoders import BinaryEncoder\n",
    "    \n",
    "    split_index = [len(train), len(prop_2016), len(prop_2017)]\n",
    "    \n",
    "    \n",
    "    prop = pd.concat([train[categorical_features],\n",
    "                      prop_2016[categorical_features], \n",
    "                      prop_2017[categorical_features]], ignore_index=True)\n",
    "    \n",
    "    encoder = BinaryEncoder(cols=categorical_features, drop_invariant = True)\n",
    "    transformed = encoder.fit_transform(prop)\n",
    "    train_be = transformed.iloc[: split_index[0]].reset_index(drop=True)\n",
    "    prop_2016_be = transformed.iloc[split_index[0] : split_index[0]+split_index[1]].reset_index(drop=True)\n",
    "    prop_2017_be = transformed.iloc[split_index[0]+split_index[1]:].reset_index(drop=True)\n",
    "    \n",
    "\n",
    "    train = pd.concat([train.drop(columns=categorical_features).reset_index(drop=True), train_be], axis = 1)\n",
    "    prop_2016 = pd.concat([prop_2016.drop(columns=categorical_features).reset_index(drop=True), prop_2016_be], axis = 1)\n",
    "    prop_2017 = pd.concat([prop_2017.drop(columns=categorical_features).reset_index(drop=True), prop_2017_be], axis = 1)\n",
    "    \n",
    "    train = train.drop(columns = ['trans_month', 'trans_year', 'trans_quarter'])\n",
    "    \n",
    "    del prop, transformed, train_be, prop_2016_be, prop_2017_be\n",
    "    gc.collect()\n",
    "    return(train, prop_2016, prop_2017)\n",
    "\n",
    "# Do encoding for cateogircal features\n",
    "categorical_features = ['airconditioningtypeid', 'architecturalstyletypeid', 'buildingclasstypeid', 'buildingqualitytypeid',\n",
    "              'fips', 'heatingorsystemtypeid', 'propertycountylandusecode', 'propertylandusetypeid',\n",
    "              'propertyzoningdesc', 'regionidcity', 'regionidcounty', 'regionidneighborhood', 'regionidzip',\n",
    "              'storytypeid', 'typeconstructiontypeid', 'geo_cluster']\n",
    "\n",
    "train, prop_2016, prop_2017 = encoding(train, prop_2016, prop_2017, categorical_features)"
   ]
  },
  {
   "cell_type": "code",
   "execution_count": 6,
   "metadata": {},
   "outputs": [
    {
     "name": "stdout",
     "output_type": "stream",
     "text": [
      "X_train shape: (134310, 211)\n",
      "y_train shape: (134310,)\n",
      "X_val shape: (33578, 211)\n",
      "y_val shape: (33578,)\n"
     ]
    }
   ],
   "source": [
    "# Transform to Numpy matrices\n",
    "X = train.drop(columns=['logerror', 'parcelid', 'transactiondate'])\n",
    "y = train.logerror.values.astype(float)\n",
    "\n",
    "\n",
    "# Get categorical features\n",
    "categorical_indices = []\n",
    "for i, n in enumerate(X.columns):\n",
    "    if n in categorical_features:\n",
    "        categorical_indices.append(i)\n",
    "\n",
    "# Perform shuffled train/test split\n",
    "X_train, X_test, y_train, y_test = train_test_split(X, y, test_size=0.2)\n",
    "\n",
    "print(\"X_train shape: {}\".format(X_train.shape))\n",
    "print(\"y_train shape: {}\".format(y_train.shape))\n",
    "print(\"X_val shape: {}\".format(X_test.shape))\n",
    "print(\"y_val shape: {}\".format(y_test.shape))"
   ]
  },
  {
   "cell_type": "markdown",
   "metadata": {},
   "source": [
    "## Hyperparameter Tuning\n",
    "\n",
    "We will conduct bayesian hyperparameter tuning with the help of the package `HyperOpt`"
   ]
  },
  {
   "cell_type": "code",
   "execution_count": 7,
   "metadata": {},
   "outputs": [],
   "source": [
    "# CatBoost parameters Setting\n",
    "params = {'loss_function': 'MAE',\n",
    "          'learning_rate': hp.uniform('learning_rate', 0.001, 0.1),\n",
    "          'depth': hp.choice('depth', np.arange(2, 10, dtype=int)),\n",
    "          'random_strength': hp.choice('random_strength', np.arange(1, 10, dtype=int)),\n",
    "         'eval_metric': 'MAE',\n",
    "         'nan_mode': 'Min',\n",
    "         'iterations': 1000,\n",
    "         'od_pval': hp.uniform('od_pval', 0.00001, 0.01),\n",
    "          'l2_leaf_reg': hp.choice('l2_leaf_reg', [1,3,5,7,11,21,41,81,100]),\n",
    "          'border_count': hp.choice('border_count', [2,4,8,16,32,64,128,256,512,1024])\n",
    "         }"
   ]
  },
  {
   "cell_type": "code",
   "execution_count": 16,
   "metadata": {},
   "outputs": [],
   "source": [
    "def tuning_hyperparam_cat(X, y, num_eval, metric = mean_absolute_error, param = params):\n",
    "    \"\"\"\n",
    "    Wrapper Function for the entire bayesian hyperparameter tuning process. \n",
    "    \"\"\"\n",
    "    X_train, X_test, y_train, y_test = train_test_split(X, y, test_size = 0.3)\n",
    "    \n",
    "    # tuning hyperparameter\n",
    "    print(\"Tuning hyperparameter for the output model.\")\n",
    "    t = datetime.now()\n",
    "    results_hyperopt = hyperopt(param, X_train, y_train, X_test, y_test, num_eval)\n",
    "    \n",
    "    # Retrieve Hyperopt scores\n",
    "    hyperopt_scores = [trial['result']['loss']*-1 for trial in results_hyperopt.trials]\n",
    "    hyperopt_scores = np.maximum.accumulate(hyperopt_scores)\n",
    "    \n",
    "    # plotting\n",
    "    plot_learning_curve(hyperopt_scores, num_eval = num_eval)\n",
    "    \n",
    "    # retrieve best results\n",
    "    best = results_hyperopt.best_trial['misc']['vals']\n",
    "    \n",
    "    clf = CatBoostRegressor(iterations = 10,\n",
    "                            eval_metric = 'MAE',\n",
    "                            loss_function = 'MAE',\n",
    "                            learning_rate = np.float(best['learning_rate'][0]),\n",
    "                            depth = np.int(best['depth'][0]),\n",
    "                            random_strength = np.int(best['random_strength'][0]),\n",
    "                            od_pval = np.float(best['od_pval'][0]),\n",
    "                            l2_leaf_reg = np.int(best['l2_leaf_reg'][0]),\n",
    "                            border_count = np.int(best['border_count'][0])\n",
    "    )\n",
    "    \n",
    "    print(\"Complete.\")\n",
    "    print(f\"Time used: {datetime.now() - t}\")\n",
    "    print(\"\")\n",
    "    return(clf)"
   ]
  },
  {
   "cell_type": "code",
   "execution_count": 9,
   "metadata": {},
   "outputs": [],
   "source": [
    "def hyperopt(param_space, X_train, y_train, X_test, y_test, num_eval):\n",
    "    \"\"\"\n",
    "    Main hyperparameter tuning function.\n",
    "    \"\"\"\n",
    "    start = time.time()\n",
    "    \n",
    "    def objective_function(params):\n",
    "        clf = CatBoostRegressor(verbose=False, **params).fit(X_train, y_train)\n",
    "        pred = clf.predict(X_test)\n",
    "        return {'loss': mean_absolute_error(y_test, pred), 'status': STATUS_OK}\n",
    "\n",
    "    trials = Trials()\n",
    "    best_param = fmin(objective_function, \n",
    "                      param_space, \n",
    "                      algo=tpe.suggest, \n",
    "                      max_evals=num_eval, \n",
    "                      trials=trials)    \n",
    "    return(trials)"
   ]
  },
  {
   "cell_type": "code",
   "execution_count": 10,
   "metadata": {},
   "outputs": [],
   "source": [
    "def plot_learning_curve(hyperopt_scores, num_eval):\n",
    "    \"\"\"\n",
    "    Plot hyperparameter learning curve.\n",
    "    \"\"\"\n",
    "    f, ax = plt.subplots(figsize=(7,6))\n",
    "    sns.set_palette(\"husl\")\n",
    "    sns.despine()\n",
    "    ax = sns.lineplot(x=[x for x in range(num_eval)], y=hyperopt_scores, linewidth = 2)\n",
    "    plt.title(\"Finding the optimum\", fontsize=18)\n",
    "    plt.xlabel('Iteration', fontsize=12)\n",
    "    plt.ylabel('Cross-Validation Score (accuracy, %)', fontsize=12)\n",
    "    plt.legend(loc='lower right', labels=['Hyperopt'])\n",
    "    plt.setp(ax.get_legend().get_texts(), fontsize='12')"
   ]
  },
  {
   "cell_type": "code",
   "execution_count": 20,
   "metadata": {
    "scrolled": false
   },
   "outputs": [
    {
     "name": "stdout",
     "output_type": "stream",
     "text": [
      "Tuning hyperparameter for the output model.\n",
      "100%|██████████| 100/100 [1:22:07<00:00, 49.28s/it, best loss: 0.06739697976782728]\n",
      "Complete.\n",
      "Time used: 1:22:08.108964\n",
      "\n"
     ]
    },
    {
     "data": {
      "image/png": "[encoded data removed]",
      "text/plain": [
       "<Figure size 504x432 with 1 Axes>"
      ]
     },
     "metadata": {
      "needs_background": "light"
     },
     "output_type": "display_data"
    }
   ],
   "source": [
    "clf = tuning_hyperparam_cat(X_train, y_train, num_eval=100)"
   ]
  },
  {
   "cell_type": "code",
   "execution_count": 21,
   "metadata": {},
   "outputs": [
    {
     "data": {
      "text/plain": [
       "{'iterations': 10,\n",
       " 'learning_rate': 0.0552,\n",
       " 'depth': 3,\n",
       " 'l2_leaf_reg': 7,\n",
       " 'loss_function': 'MAE',\n",
       " 'border_count': 4,\n",
       " 'od_pval': 0.0079,\n",
       " 'random_strength': 2,\n",
       " 'eval_metric': 'MAE'}"
      ]
     },
     "execution_count": 21,
     "metadata": {},
     "output_type": "execute_result"
    }
   ],
   "source": [
    "params = clf.get_params()\n",
    "params"
   ]
  },
  {
   "cell_type": "markdown",
   "metadata": {},
   "source": [
    "## Training on all Data"
   ]
  },
  {
   "cell_type": "code",
   "execution_count": 26,
   "metadata": {},
   "outputs": [
    {
     "name": "stdout",
     "output_type": "stream",
     "text": [
      "Start training model 1\n",
      "Start training model 2\n",
      "Start training model 3\n",
      "model 0: 6.7604290535554155\n",
      "model 1: 6.757296821146125\n",
      "model 2: 6.7630555654376385\n"
     ]
    }
   ],
   "source": [
    "# Train multiple models for stacking\n",
    "from sklearn.model_selection import KFold\n",
    "n_splits = 3\n",
    "models = []\n",
    "params['iterations'] = 10000\n",
    "skf = KFold(n_splits=n_splits, shuffle=True)\n",
    "for i, j in enumerate(skf.split(X, y)):\n",
    "    print(\"Start training model {}\".format(i+1))\n",
    "    X_train, y_train = X.iloc[j[0]], y[j[0]]\n",
    "    model = CatBoostRegressor(**params)\n",
    "    model.fit(X_train, y_train, verbose=False)\n",
    "    models.append(model)\n",
    "    \n",
    "# Sanity check (make sure scores on a small portion of the dataset are reasonable)\n",
    "for i, model in enumerate(models):\n",
    "    print(\"model {}: {}\".format(i, abs(model.predict(X_test) - y_test).mean() * 100))"
   ]
  },
  {
   "cell_type": "code",
   "execution_count": 27,
   "metadata": {},
   "outputs": [],
   "source": [
    "def train_predict_and_export(models, prop_2016, prop_2017, file_name):\n",
    "    \"\"\"\n",
    "    Helper method to make predicition and export results to csv.\n",
    "    \"\"\"\n",
    "    # Construct DataFrame for prediction results\n",
    "    submission_2016 = pd.DataFrame()\n",
    "    submission_2017 = pd.DataFrame()\n",
    "    submission_2016['ParcelId'] = prop_2016.parcelid\n",
    "    submission_2017['ParcelId'] = prop_2017.parcelid\n",
    "\n",
    "    # Make Prediction across multiple models\n",
    "    pred_2016, pred_2017 = [], []\n",
    "    for i, model in enumerate(models):\n",
    "        print(\"Start model {} (2016)\".format(i))\n",
    "        pred_2016.append(model.predict(prop_2016))\n",
    "        print(\"Start model {} (2017)\".format(i))\n",
    "        pred_2017.append(model.predict(prop_2017))\n",
    "    \n",
    "    # Take average across all models\n",
    "    mean_pred_2016 = np.mean(pred_2016, axis=0)\n",
    "    mean_pred_2017 = np.mean(pred_2017, axis=0)\n",
    "    \n",
    "    # Formatting for submission\n",
    "    submission_2016['201610'] = [float(format(x, '.4f')) for x in mean_pred_2016]\n",
    "    submission_2016['201611'] = submission_2016['201610']\n",
    "    submission_2016['201612'] = submission_2016['201610']\n",
    "\n",
    "    submission_2017['201710'] = [float(format(x, '.4f')) for x in mean_pred_2017]\n",
    "    submission_2017['201711'] = submission_2017['201710']\n",
    "    submission_2017['201712'] = submission_2017['201710']\n",
    "    \n",
    "    submission = pd.merge(submission_2016,submission_2017, how='inner', on='ParcelId')\n",
    "    submission.to_csv(file_name, index=False)\n",
    "    print(\"Submission Successfully Created.\")\n",
    "    return(submission, pred_2016, pred_2017)"
   ]
  },
  {
   "cell_type": "code",
   "execution_count": 28,
   "metadata": {
    "scrolled": true
   },
   "outputs": [
    {
     "name": "stdout",
     "output_type": "stream",
     "text": [
      "Start model 0 (2016)\n",
      "Start model 0 (2017)\n",
      "Start model 1 (2016)\n",
      "Start model 1 (2017)\n",
      "Start model 2 (2016)\n",
      "Start model 2 (2017)\n",
      "Submission Successfully Created.\n",
      "CPU times: user 8min 42s, sys: 24.5 s, total: 9min 6s\n",
      "Wall time: 9min 10s\n"
     ]
    }
   ],
   "source": [
    "%%time\n",
    "# del train\n",
    "# gc.collect()\n",
    "\n",
    "file_name = 'submission/result_cat.csv'\n",
    "submission, pred_2016, pred_2017 = train_predict_and_export(models, prop_2016, prop_2017, file_name)\n"
   ]
  },
  {
   "cell_type": "code",
   "execution_count": 39,
   "metadata": {},
   "outputs": [],
   "source": [
    "model.save_model('model_CatBoost.py', format='python', pool=X_train)"
   ]
  }
 ],
 "metadata": {
  "kernelspec": {
   "display_name": "Python 3",
   "language": "python",
   "name": "python3"
  },
  "language_info": {
   "codemirror_mode": {
    "name": "ipython",
    "version": 3
   },
   "file_extension": ".py",
   "mimetype": "text/x-python",
   "name": "python",
   "nbconvert_exporter": "python",
   "pygments_lexer": "ipython3",
   "version": "3.7.7"
  }
 },
 "nbformat": 4,
 "nbformat_minor": 4
}
